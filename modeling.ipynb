{
 "cells": [
  {
   "cell_type": "markdown",
   "id": "def71fef",
   "metadata": {},
   "source": [
    "# Modeling"
   ]
  },
  {
   "cell_type": "markdown",
   "id": "07792e4c",
   "metadata": {},
   "source": [
    "### Libraries"
   ]
  },
  {
   "cell_type": "code",
   "execution_count": 24,
   "id": "b46b73a5",
   "metadata": {},
   "outputs": [],
   "source": [
    "import pandas as pd\n",
    "import numpy as np\n",
    "import matplotlib.pyplot as plt\n",
    "\n",
    "\n",
    "# libraries for modeling\n",
    "from sklearn.model_selection import train_test_split\n",
    "from sklearn.feature_extraction.text import TfidfVectorizer\n",
    "from sklearn.ensemble import RandomForestClassifier\n",
    "from sklearn.metrics import classification_report\n",
    "\n",
    "from sklearn.linear_model import LogisticRegression\n",
    "from sklearn.svm import SVC\n",
    "\n",
    "import lightgbm as lgb\n",
    "from sklearn.model_selection import cross_val_score\n",
    "\n",
    "from sklearn.metrics import confusion_matrix, ConfusionMatrixDisplay\n",
    "\n",
    "from scipy.sparse import hstack\n"
   ]
  },
  {
   "cell_type": "markdown",
   "id": "5ec6e838",
   "metadata": {},
   "source": [
    "### Load the sampled DataFrame"
   ]
  },
  {
   "cell_type": "code",
   "execution_count": 3,
   "id": "ccd6309f",
   "metadata": {},
   "outputs": [
    {
     "name": "stdout",
     "output_type": "stream",
     "text": [
      "(1000000, 13)\n",
      "   rating                                        title  \\\n",
      "0     3.0            Smells like gasoline! Going back!   \n",
      "1     1.0      Didn’t work at all lenses loose/broken.   \n",
      "2     5.0                                   Excellent!   \n",
      "3     5.0                       Great laptop backpack!   \n",
      "4     5.0  Best Headphones in the Fifties price range!   \n",
      "\n",
      "                                                text  \\\n",
      "0  first  most offensive they reek of gasoline so...   \n",
      "1  these didnt work idk if they were damaged in s...   \n",
      "2  i love these they even come with a carry case ...   \n",
      "3  i was searching for a sturdy backpack for scho...   \n",
      "4  ive bought these headphones three times becaus...   \n",
      "\n",
      "                                              images        asin parent_asin  \\\n",
      "0  [{'attachment_type': 'IMAGE', 'large_image_url...  B083NRGZMM  B083NRGZMM   \n",
      "1                                                 []  B07N69T6TM  B07N69T6TM   \n",
      "2                                                 []  B01G8JO5F2  B01G8JO5F2   \n",
      "3                                                 []  B001OC5JKY  B001OC5JKY   \n",
      "4                                                 []  B013J7WUGC  B07CJYMRWM   \n",
      "\n",
      "                        user_id      timestamp  helpful_vote  \\\n",
      "0  AFKZENTNBQ7A7V7UXW5JJI6UGRYQ  1658185117948             0   \n",
      "1  AFKZENTNBQ7A7V7UXW5JJI6UGRYQ  1592678549731             0   \n",
      "2  AFKZENTNBQ7A7V7UXW5JJI6UGRYQ  1523093017534             0   \n",
      "3  AGGZ357AO26RQZVRLGU4D4N52DZQ  1290278495000            18   \n",
      "4  AG2L7H23R5LLKDKLBEF2Q3L2MVDA  1676601581238             0   \n",
      "\n",
      "   verified_purchase  sentiment_polarity sentiment_category  duplicated_review  \n",
      "0               True            0.075417           Positive              False  \n",
      "1               True           -0.184103           Negative              False  \n",
      "2               True            0.275170           Positive              False  \n",
      "3               True            0.098843           Positive              False  \n",
      "4               True            0.327778           Positive              False  \n"
     ]
    }
   ],
   "source": [
    "df = pd.read_pickle(\"cleaned_reviews.pkl\")\n",
    "\n",
    "print(df.shape)\n",
    "print(df.head())"
   ]
  },
  {
   "cell_type": "code",
   "execution_count": 4,
   "id": "36461481",
   "metadata": {},
   "outputs": [
    {
     "data": {
      "text/plain": [
       "Index(['rating', 'title', 'text', 'images', 'asin', 'parent_asin', 'user_id',\n",
       "       'timestamp', 'helpful_vote', 'verified_purchase', 'sentiment_polarity',\n",
       "       'sentiment_category', 'duplicated_review'],\n",
       "      dtype='object')"
      ]
     },
     "execution_count": 4,
     "metadata": {},
     "output_type": "execute_result"
    }
   ],
   "source": [
    "df.columns"
   ]
  },
  {
   "cell_type": "code",
   "execution_count": null,
   "id": "dee303d9",
   "metadata": {},
   "outputs": [
    {
     "name": "stdout",
     "output_type": "stream",
     "text": [
      "                            text                       user_id        asin\n",
      "8      pretty good for the price  AGCI7FAH4GL5FI65HYLKWTMFZ2CQ  B002HWRZ2K\n",
      "44                 fast charging  AFQLNQNQYFWQZPJQZS6V3NZU4QBQ  B07PGRR6QN\n",
      "50   works great easy to install  AHITBJSS7KYUBVZPX7M2WJCOIVKQ  B00EVVGAFI\n",
      "61     works great no complaints  AFVNEEPDEIH5SPUN5BWC6NKL3WNQ  B0714NB5TL\n",
      "64                       awesome  AHXSBZT52TCPZUBVCBRICTHWUCBA  B0045DT3A6\n",
      "67                          gift  AHBHMMUTJ5W3SZUHVKUP35ZYKUHA  B0733GXPYZ\n",
      "77                       love it  AHZIJGKEWRTAEOZ673G5B3SNXEGQ  B07PGL2N7J\n",
      "98           great little device  AEFKF6R2GUSK2AWPSWRR4ZO36JVQ  B01KWY71BO\n",
      "99                 good warranty  AEFKF6R2GUSK2AWPSWRR4ZO36JVQ  B008I64LC6\n",
      "127         just what was needed  AFWHJ6O3PV4JC7PVOJH6CPULO2KQ  B00M77HMU0\n"
     ]
    }
   ],
   "source": [
    "# Find all duplicated reviews (not just the first occurrence)\n",
    "duplicated_reviews = df[df.duplicated(subset=[\"text\"], keep=False)]\n",
    "\n",
    "print(duplicated_reviews[[\"text\", \"user_id\", \"asin\"]].head(10))"
   ]
  },
  {
   "cell_type": "code",
   "execution_count": 6,
   "id": "35bf8438",
   "metadata": {},
   "outputs": [
    {
     "name": "stdout",
     "output_type": "stream",
     "text": [
      "works great      5066\n",
      "great            4149\n",
      "good             3898\n",
      "great product    2999\n",
      "love it          2785\n",
      "excellent        1806\n",
      "good product     1790\n",
      "perfect          1743\n",
      "ok               1650\n",
      "works well       1412\n",
      "Name: text, dtype: int64\n"
     ]
    }
   ],
   "source": [
    "print(df[\"text\"].value_counts().head(10))"
   ]
  },
  {
   "cell_type": "code",
   "execution_count": 7,
   "id": "46a9e742",
   "metadata": {},
   "outputs": [
    {
     "name": "stdout",
     "output_type": "stream",
     "text": [
      "0    952798\n",
      "1     47202\n",
      "Name: suspicious_user, dtype: int64\n"
     ]
    }
   ],
   "source": [
    "# Add a column: 1 if user posted the same review text for different products, else 0 (suspicious user)\n",
    "user_text_multi_products = (\n",
    "    df.groupby([\"user_id\", \"text\"])[\"asin\"].nunique().reset_index()\n",
    ")\n",
    "user_text_multi_products[\"suspicious_user\"] = (user_text_multi_products[\"asin\"] > 1).astype(int)\n",
    "\n",
    "# Merge this info back to the main DataFrame\n",
    "df = df.merge(\n",
    "    user_text_multi_products[[\"user_id\", \"text\", \"suspicious_user\"]],\n",
    "    on=[\"user_id\", \"text\"],\n",
    "    how=\"left\"\n",
    ")\n",
    "df[\"suspicious_user\"] = df[\"suspicious_user\"].fillna(0).astype(int)\n",
    "\n",
    "print(df[\"suspicious_user\"].value_counts())"
   ]
  },
  {
   "cell_type": "markdown",
   "id": "b7c5ec77",
   "metadata": {},
   "source": [
    "### Labeling"
   ]
  },
  {
   "cell_type": "code",
   "execution_count": null,
   "id": "e6ec80e1",
   "metadata": {},
   "outputs": [
    {
     "name": "stdout",
     "output_type": "stream",
     "text": [
      "0    832409\n",
      "1    167591\n",
      "Name: heuristic_label, dtype: int64\n"
     ]
    }
   ],
   "source": [
    "# Create a heuristic label for fake reviews\n",
    "\n",
    "# Heuristic 1: User is suspicious (posted same review for multiple products)\n",
    "# Heuristic 2: Review is not a verified purchase and has 0 helpful votes\n",
    "# Heuristic 3: Review is duplicated (text appears more than once)\n",
    "# Heuristic 4: Extreme sentiment polarity and not verified\n",
    "\n",
    "df[\"heuristic_label\"] = (\n",
    "    (df[\"suspicious_user\"] == 1) |\n",
    "    ((df[\"verified_purchase\"] == False) & (df[\"helpful_vote\"] == 0)) |\n",
    "    (df[\"duplicated_review\"] == True) |\n",
    "    ((df[\"verified_purchase\"] == False) & (abs(df[\"sentiment_polarity\"]) > 0.8))\n",
    ").astype(int)\n",
    "\n",
    "print(df[\"heuristic_label\"].value_counts())"
   ]
  },
  {
   "cell_type": "markdown",
   "id": "274207fd",
   "metadata": {},
   "source": [
    "### Classical ML"
   ]
  },
  {
   "cell_type": "markdown",
   "id": "d97ce5ad",
   "metadata": {},
   "source": [
    "### RandomForest (too slow)"
   ]
  },
  {
   "cell_type": "code",
   "execution_count": null,
   "id": "38640001",
   "metadata": {},
   "outputs": [],
   "source": [
    "\n",
    "# X = df[\"text\"]\n",
    "# y = df[\"heuristic_label\"] \n",
    "\n",
    "# # Split data\n",
    "# X_train, X_test, y_train, y_test = train_test_split(X, y, test_size=0.2, random_state=42)\n",
    "\n",
    "# # Vectorize text\n",
    "# vectorizer = TfidfVectorizer(max_features=5000)\n",
    "# X_train_vec = vectorizer.fit_transform(X_train)\n",
    "# X_test_vec = vectorizer.transform(X_test)\n",
    "\n",
    "# # Train classifier\n",
    "# clf = RandomForestClassifier(n_estimators=100, random_state=42)\n",
    "# clf.fit(X_train_vec, y_train)\n",
    "\n",
    "# # Evaluate\n",
    "# y_pred = clf.predict(X_test_vec)\n",
    "# print(classification_report(y_test, y_pred))"
   ]
  },
  {
   "cell_type": "markdown",
   "id": "bd673b2d",
   "metadata": {},
   "source": [
    "### LogisticRegression"
   ]
  },
  {
   "cell_type": "code",
   "execution_count": null,
   "id": "8409713e",
   "metadata": {},
   "outputs": [
    {
     "name": "stdout",
     "output_type": "stream",
     "text": [
      "              precision    recall  f1-score   support\n",
      "\n",
      "           0       0.88      0.98      0.93    166617\n",
      "           1       0.79      0.35      0.48     33383\n",
      "\n",
      "    accuracy                           0.88    200000\n",
      "   macro avg       0.84      0.66      0.71    200000\n",
      "weighted avg       0.87      0.88      0.85    200000\n",
      "\n"
     ]
    }
   ],
   "source": [
    "# Prepare data for modeling\n",
    "X = df[\"text\"]\n",
    "y = df[\"heuristic_label\"]\n",
    "\n",
    "# Split data\n",
    "X_train, X_test, y_train, y_test = train_test_split(X, y, test_size=0.2, random_state=42)\n",
    "\n",
    "# Vectorize text (reduce features for speed/memory)\n",
    "vectorizer = TfidfVectorizer(max_features=1000)\n",
    "X_train_vec = vectorizer.fit_transform(X_train)\n",
    "X_test_vec = vectorizer.transform(X_test)\n",
    "\n",
    "# Train a scalable model\n",
    "clf = LogisticRegression(max_iter=200, solver=\"saga\", n_jobs=-1)\n",
    "clf.fit(X_train_vec, y_train)\n",
    "\n",
    "# Evaluate\n",
    "y_pred = clf.predict(X_test_vec)\n",
    "print(classification_report(y_test, y_pred))"
   ]
  },
  {
   "cell_type": "code",
   "execution_count": null,
   "id": "b5f5c1db",
   "metadata": {},
   "outputs": [
    {
     "name": "stdout",
     "output_type": "stream",
     "text": [
      "False Positives:\n",
      " 51333      it was exactly what i expected thank you\n",
      "443417                   worked beautifully  thanks\n",
      "352277                        works great as always\n",
      "644427    works in a jam  good transmission quality\n",
      "14062                               grrreat product\n",
      "Name: text, dtype: object\n",
      "False Negatives:\n",
      " 135049                                goes off continuously\n",
      "732057                                            excelente\n",
      "858884    these tripod feet from neewer are an excellent...\n",
      "811353                       does what i purchased it to do\n",
      "625691    picked this up for my sons new house he was no...\n",
      "Name: text, dtype: object\n"
     ]
    }
   ],
   "source": [
    "false_positives = X_test[(y_test == 0) & (y_pred == 1)]\n",
    "false_negatives = X_test[(y_test == 1) & (y_pred == 0)]\n",
    "print(\"False Positives:\\n\", false_positives.head())\n",
    "print(\"False Negatives:\\n\", false_negatives.head())"
   ]
  },
  {
   "cell_type": "code",
   "execution_count": null,
   "id": "9d674f3b",
   "metadata": {},
   "outputs": [
    {
     "name": "stdout",
     "output_type": "stream",
     "text": [
      "Classification Report:\n",
      "               precision    recall  f1-score   support\n",
      "\n",
      "           0       0.88      0.98      0.93    166617\n",
      "           1       0.79      0.35      0.48     33383\n",
      "\n",
      "    accuracy                           0.88    200000\n",
      "   macro avg       0.84      0.66      0.71    200000\n",
      "weighted avg       0.87      0.88      0.85    200000\n",
      "\n"
     ]
    },
    {
     "data": {
      "image/png": "[encoded data removed]",
      "text/plain": [
       "<Figure size 432x288 with 2 Axes>"
      ]
     },
     "metadata": {
      "needs_background": "light"
     },
     "output_type": "display_data"
    },
    {
     "name": "stdout",
     "output_type": "stream",
     "text": [
      "\n",
      "Model Limitations:\n",
      "- Labels are based on heuristics, not true ground truth.\n",
      "- Model may not generalize to more sophisticated or subtle fake reviews.\n",
      "- Class imbalance may affect recall/precision for the 'fake' class.\n",
      "- Only text features (TF-IDF) are used; metadata and behavioral features could improve results.\n",
      "- Logistic Regression is a linear model; more complex relationships may not be captured.\n",
      "\n"
     ]
    }
   ],
   "source": [
    "# Summarize findings\n",
    "print(\"Classification Report:\\n\", classification_report(y_test, y_pred))\n",
    "\n",
    "# Plot confusion matrix\n",
    "cm = confusion_matrix(y_test, y_pred)\n",
    "disp = ConfusionMatrixDisplay(confusion_matrix=cm, display_labels=[\"Genuine\", \"Fake\"])\n",
    "disp.plot(cmap=plt.cm.Blues)\n",
    "plt.title(\"Confusion Matrix: Fake Review Detection\")\n",
    "plt.show()\n",
    "\n",
    "# Document model limitations\n",
    "print(\"\"\"\n",
    "Model Limitations:\n",
    "- Labels are based on heuristics, not true ground truth.\n",
    "- Model may not generalize to more sophisticated or subtle fake reviews.\n",
    "- Class imbalance may affect recall/precision for the 'fake' class.\n",
    "- Only text features (TF-IDF) are used; metadata and behavioral features could improve results.\n",
    "- Logistic Regression is a linear model; more complex relationships may not be captured.\n",
    "\"\"\")"
   ]
  },
  {
   "cell_type": "markdown",
   "id": "d1eca22e",
   "metadata": {},
   "source": [
    "### More features & cross-validation"
   ]
  },
  {
   "cell_type": "code",
   "execution_count": 13,
   "id": "54323c24",
   "metadata": {},
   "outputs": [],
   "source": [
    "# from sklearn.model_selection import cross_val_score\n",
    "\n",
    "# # Example: Add review length as a feature\n",
    "# df[\"review_length\"] = df[\"text\"].apply(len)\n",
    "# X_text = vectorizer.fit_transform(df[\"text\"])\n",
    "# import numpy as np\n",
    "# X = np.hstack([X_text.toarray(), df[[\"review_length\"]].values])\n",
    "\n",
    "# # Cross-validation\n",
    "# scores = cross_val_score(clf, X, df[\"heuristic_label\"], cv=5, scoring=\"f1\")\n",
    "# print(\"Cross-validated F1 scores:\", scores)\n",
    "# print(\"Mean F1 score:\", scores.mean())"
   ]
  },
  {
   "cell_type": "code",
   "execution_count": 16,
   "id": "4ad94d57",
   "metadata": {},
   "outputs": [
    {
     "name": "stdout",
     "output_type": "stream",
     "text": [
      "0    832409\n",
      "1    167591\n",
      "Name: heuristic_label, dtype: int64\n"
     ]
    }
   ],
   "source": [
    "print(df[\"heuristic_label\"].value_counts())"
   ]
  },
  {
   "cell_type": "code",
   "execution_count": null,
   "id": "b4639b0b",
   "metadata": {},
   "outputs": [
    {
     "name": "stdout",
     "output_type": "stream",
     "text": [
      "Cross-validated F1 scores: [0. 0. 0. 0. 0.]\n",
      "Mean F1 score: 0.0\n"
     ]
    }
   ],
   "source": [
    "\n",
    "# Vectorize text\n",
    "vectorizer = TfidfVectorizer(max_features=1000)\n",
    "X_text = vectorizer.fit_transform(df[\"text\"])\n",
    "df[\"review_length\"] = df[\"text\"].apply(len)\n",
    "import numpy as np\n",
    "X = hstack([X_text, np.array(df[[\"review_length\"]])])\n",
    "y = df[\"heuristic_label\"]\n",
    "\n",
    "# Train and cross-validate on the combined features\n",
    "clf = LogisticRegression(max_iter=200, solver=\"saga\", n_jobs=-1)\n",
    "scores = cross_val_score(clf, X, y, cv=5, scoring=\"f1\")\n",
    "print(\"Cross-validated F1 scores:\", scores)\n",
    "print(\"Mean F1 score:\", scores.mean())"
   ]
  },
  {
   "cell_type": "code",
   "execution_count": 19,
   "id": "c2d774de",
   "metadata": {},
   "outputs": [
    {
     "name": "stdout",
     "output_type": "stream",
     "text": [
      "Cross-validated F1 scores: [0.12754675 0.2657689  0.28863196 0.27062214 0.25278211]\n",
      "Mean F1 score: 0.2410703731429174\n"
     ]
    }
   ],
   "source": [
    "clf = LogisticRegression(max_iter=200, solver=\"saga\", n_jobs=-1, class_weight=\"balanced\")\n",
    "scores = cross_val_score(clf, X, y, cv=5, scoring=\"f1\")\n",
    "print(\"Cross-validated F1 scores:\", scores)\n",
    "print(\"Mean F1 score:\", scores.mean())"
   ]
  },
  {
   "cell_type": "code",
   "execution_count": 20,
   "id": "3513fe6a",
   "metadata": {},
   "outputs": [
    {
     "name": "stderr",
     "output_type": "stream",
     "text": [
      "C:\\Users\\albin\\AppData\\Local\\Packages\\PythonSoftwareFoundation.Python.3.8_qbz5n2kfra8p0\\LocalCache\\local-packages\\Python38\\site-packages\\sklearn\\linear_model\\_sag.py:352: ConvergenceWarning: The max_iter was reached which means the coef_ did not converge\n",
      "  warnings.warn(\n"
     ]
    },
    {
     "name": "stdout",
     "output_type": "stream",
     "text": [
      "(array([0, 1]), array([971982,  28018], dtype=int64))\n"
     ]
    }
   ],
   "source": [
    "clf.fit(X, y)\n",
    "preds = clf.predict(X)\n",
    "print(np.unique(preds, return_counts=True))"
   ]
  },
  {
   "cell_type": "markdown",
   "id": "aef30332",
   "metadata": {},
   "source": [
    "### LightGBM"
   ]
  },
  {
   "cell_type": "code",
   "execution_count": null,
   "id": "26c09442",
   "metadata": {},
   "outputs": [
    {
     "name": "stdout",
     "output_type": "stream",
     "text": [
      "[LightGBM] [Info] Number of positive: 134073, number of negative: 665927\n",
      "[LightGBM] [Info] Auto-choosing row-wise multi-threading, the overhead of testing was 0.980339 seconds.\n",
      "You can set `force_row_wise=true` to remove the overhead.\n",
      "And if memory is not enough, you can set `force_col_wise=true`.\n",
      "[LightGBM] [Info] Total Bins 255197\n",
      "[LightGBM] [Info] Number of data points in the train set: 800000, number of used features: 1001\n",
      "[LightGBM] [Info] [binary:BoostFromScore]: pavg=0.500000 -> initscore=-0.000000\n",
      "[LightGBM] [Info] Start training from score -0.000000\n",
      "[LightGBM] [Info] Number of positive: 134073, number of negative: 665927\n",
      "[LightGBM] [Info] Auto-choosing col-wise multi-threading, the overhead of testing was 1.058822 seconds.\n",
      "You can set `force_col_wise=true` to remove the overhead.\n",
      "[LightGBM] [Info] Total Bins 255209\n",
      "[LightGBM] [Info] Number of data points in the train set: 800000, number of used features: 1001\n",
      "[LightGBM] [Info] [binary:BoostFromScore]: pavg=0.500000 -> initscore=-0.000000\n",
      "[LightGBM] [Info] Start training from score -0.000000\n",
      "[LightGBM] [Info] Number of positive: 134073, number of negative: 665927\n",
      "[LightGBM] [Info] Auto-choosing row-wise multi-threading, the overhead of testing was 1.355717 seconds.\n",
      "You can set `force_row_wise=true` to remove the overhead.\n",
      "And if memory is not enough, you can set `force_col_wise=true`.\n",
      "[LightGBM] [Info] Total Bins 255183\n",
      "[LightGBM] [Info] Number of data points in the train set: 800000, number of used features: 1001\n",
      "[LightGBM] [Info] [binary:BoostFromScore]: pavg=0.500000 -> initscore=-0.000000\n",
      "[LightGBM] [Info] Start training from score -0.000000\n",
      "[LightGBM] [Info] Number of positive: 134073, number of negative: 665927\n",
      "[LightGBM] [Info] Auto-choosing row-wise multi-threading, the overhead of testing was 1.513477 seconds.\n",
      "You can set `force_row_wise=true` to remove the overhead.\n",
      "And if memory is not enough, you can set `force_col_wise=true`.\n",
      "[LightGBM] [Info] Total Bins 255184\n",
      "[LightGBM] [Info] Number of data points in the train set: 800000, number of used features: 1001\n",
      "[LightGBM] [Info] [binary:BoostFromScore]: pavg=0.500000 -> initscore=-0.000000\n",
      "[LightGBM] [Info] Start training from score -0.000000\n",
      "[LightGBM] [Info] Number of positive: 134072, number of negative: 665928\n",
      "[LightGBM] [Info] Auto-choosing row-wise multi-threading, the overhead of testing was 1.499253 seconds.\n",
      "You can set `force_row_wise=true` to remove the overhead.\n",
      "And if memory is not enough, you can set `force_col_wise=true`.\n",
      "[LightGBM] [Info] Total Bins 255209\n",
      "[LightGBM] [Info] Number of data points in the train set: 800000, number of used features: 1001\n",
      "[LightGBM] [Info] [binary:BoostFromScore]: pavg=0.500000 -> initscore=0.000000\n",
      "[LightGBM] [Info] Start training from score 0.000000\n",
      "LightGBM Cross-validated F1 scores: [0.47095002 0.63988421 0.64745114 0.65032724 0.65642067]\n",
      "Mean F1 score: 0.6130066583224207\n"
     ]
    }
   ],
   "source": [
    "lgbm = lgb.LGBMClassifier(class_weight=\"balanced\", n_jobs=-1)\n",
    "scores = cross_val_score(lgbm, X, y, cv=5, scoring=\"f1\")\n",
    "print(\"LightGBM Cross-validated F1 scores:\", scores)\n",
    "print(\"Mean F1 score:\", scores.mean())"
   ]
  }
 ],
 "metadata": {
  "kernelspec": {
   "display_name": "Python 3",
   "language": "python",
   "name": "python3"
  },
  "language_info": {
   "codemirror_mode": {
    "name": "ipython",
    "version": 3
   },
   "file_extension": ".py",
   "mimetype": "text/x-python",
   "name": "python",
   "nbconvert_exporter": "python",
   "pygments_lexer": "ipython3",
   "version": "3.8.10"
  }
 },
 "nbformat": 4,
 "nbformat_minor": 5
}

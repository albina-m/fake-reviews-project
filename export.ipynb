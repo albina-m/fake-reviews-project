{
 "cells": [
  {
   "cell_type": "code",
   "execution_count": 32,
   "id": "bd963453",
   "metadata": {},
   "outputs": [
    {
     "name": "stdout",
     "output_type": "stream",
     "text": [
      "Requirement already satisfied: datasets in c:\\users\\albin\\appdata\\local\\packages\\pythonsoftwarefoundation.python.3.8_qbz5n2kfra8p0\\localcache\\local-packages\\python38\\site-packages (3.1.0)\n",
      "Requirement already satisfied: filelock in c:\\users\\albin\\appdata\\local\\packages\\pythonsoftwarefoundation.python.3.8_qbz5n2kfra8p0\\localcache\\local-packages\\python38\\site-packages (from datasets) (3.6.0)\n",
      "Requirement already satisfied: numpy>=1.17 in c:\\users\\albin\\appdata\\local\\packages\\pythonsoftwarefoundation.python.3.8_qbz5n2kfra8p0\\localcache\\local-packages\\python38\\site-packages (from datasets) (1.22.2)\n",
      "Requirement already satisfied: pyarrow>=15.0.0 in c:\\users\\albin\\appdata\\local\\packages\\pythonsoftwarefoundation.python.3.8_qbz5n2kfra8p0\\localcache\\local-packages\\python38\\site-packages (from datasets) (17.0.0)\n",
      "Requirement already satisfied: dill<0.3.9,>=0.3.0 in c:\\users\\albin\\appdata\\local\\packages\\pythonsoftwarefoundation.python.3.8_qbz5n2kfra8p0\\localcache\\local-packages\\python38\\site-packages (from datasets) (0.3.8)\n",
      "Requirement already satisfied: pandas in c:\\users\\albin\\appdata\\local\\packages\\pythonsoftwarefoundation.python.3.8_qbz5n2kfra8p0\\localcache\\local-packages\\python38\\site-packages (from datasets) (1.4.0)\n",
      "Requirement already satisfied: requests>=2.32.2 in c:\\users\\albin\\appdata\\local\\packages\\pythonsoftwarefoundation.python.3.8_qbz5n2kfra8p0\\localcache\\local-packages\\python38\\site-packages (from datasets) (2.32.4)\n",
      "Requirement already satisfied: tqdm>=4.66.3 in c:\\users\\albin\\appdata\\local\\packages\\pythonsoftwarefoundation.python.3.8_qbz5n2kfra8p0\\localcache\\local-packages\\python38\\site-packages (from datasets) (4.67.1)\n",
      "Requirement already satisfied: xxhash in c:\\users\\albin\\appdata\\local\\packages\\pythonsoftwarefoundation.python.3.8_qbz5n2kfra8p0\\localcache\\local-packages\\python38\\site-packages (from datasets) (3.5.0)\n",
      "Requirement already satisfied: multiprocess<0.70.17 in c:\\users\\albin\\appdata\\local\\packages\\pythonsoftwarefoundation.python.3.8_qbz5n2kfra8p0\\localcache\\local-packages\\python38\\site-packages (from datasets) (0.70.16)\n",
      "Requirement already satisfied: fsspec[http]<=2024.9.0,>=2023.1.0 in c:\\users\\albin\\appdata\\local\\packages\\pythonsoftwarefoundation.python.3.8_qbz5n2kfra8p0\\localcache\\local-packages\\python38\\site-packages (from datasets) (2024.9.0)\n",
      "Requirement already satisfied: aiohttp in c:\\users\\albin\\appdata\\local\\packages\\pythonsoftwarefoundation.python.3.8_qbz5n2kfra8p0\\localcache\\local-packages\\python38\\site-packages (from datasets) (3.10.11)\n",
      "Requirement already satisfied: huggingface-hub>=0.23.0 in c:\\users\\albin\\appdata\\local\\packages\\pythonsoftwarefoundation.python.3.8_qbz5n2kfra8p0\\localcache\\local-packages\\python38\\site-packages (from datasets) (0.32.5)\n",
      "Requirement already satisfied: packaging in c:\\users\\albin\\appdata\\local\\packages\\pythonsoftwarefoundation.python.3.8_qbz5n2kfra8p0\\localcache\\local-packages\\python38\\site-packages (from datasets) (21.3)\n",
      "Requirement already satisfied: pyyaml>=5.1 in c:\\users\\albin\\appdata\\local\\packages\\pythonsoftwarefoundation.python.3.8_qbz5n2kfra8p0\\localcache\\local-packages\\python38\\site-packages (from datasets) (6.0)\n",
      "Requirement already satisfied: aiohappyeyeballs>=2.3.0 in c:\\users\\albin\\appdata\\local\\packages\\pythonsoftwarefoundation.python.3.8_qbz5n2kfra8p0\\localcache\\local-packages\\python38\\site-packages (from aiohttp->datasets) (2.4.4)\n",
      "Requirement already satisfied: aiosignal>=1.1.2 in c:\\users\\albin\\appdata\\local\\packages\\pythonsoftwarefoundation.python.3.8_qbz5n2kfra8p0\\localcache\\local-packages\\python38\\site-packages (from aiohttp->datasets) (1.3.1)\n",
      "Requirement already satisfied: attrs>=17.3.0 in c:\\users\\albin\\appdata\\local\\packages\\pythonsoftwarefoundation.python.3.8_qbz5n2kfra8p0\\localcache\\local-packages\\python38\\site-packages (from aiohttp->datasets) (21.4.0)\n",
      "Requirement already satisfied: frozenlist>=1.1.1 in c:\\users\\albin\\appdata\\local\\packages\\pythonsoftwarefoundation.python.3.8_qbz5n2kfra8p0\\localcache\\local-packages\\python38\\site-packages (from aiohttp->datasets) (1.5.0)\n",
      "Requirement already satisfied: multidict<7.0,>=4.5 in c:\\users\\albin\\appdata\\local\\packages\\pythonsoftwarefoundation.python.3.8_qbz5n2kfra8p0\\localcache\\local-packages\\python38\\site-packages (from aiohttp->datasets) (6.1.0)\n",
      "Requirement already satisfied: yarl<2.0,>=1.12.0 in c:\\users\\albin\\appdata\\local\\packages\\pythonsoftwarefoundation.python.3.8_qbz5n2kfra8p0\\localcache\\local-packages\\python38\\site-packages (from aiohttp->datasets) (1.15.2)\n",
      "Requirement already satisfied: async-timeout<6.0,>=4.0 in c:\\users\\albin\\appdata\\local\\packages\\pythonsoftwarefoundation.python.3.8_qbz5n2kfra8p0\\localcache\\local-packages\\python38\\site-packages (from aiohttp->datasets) (5.0.1)\n",
      "Requirement already satisfied: typing-extensions>=3.7.4.3 in c:\\users\\albin\\appdata\\local\\packages\\pythonsoftwarefoundation.python.3.8_qbz5n2kfra8p0\\localcache\\local-packages\\python38\\site-packages (from huggingface-hub>=0.23.0->datasets) (4.13.2)\n",
      "Requirement already satisfied: pyparsing!=3.0.5,>=2.0.2 in c:\\users\\albin\\appdata\\local\\packages\\pythonsoftwarefoundation.python.3.8_qbz5n2kfra8p0\\localcache\\local-packages\\python38\\site-packages (from packaging->datasets) (3.0.7)\n",
      "Requirement already satisfied: charset_normalizer<4,>=2 in c:\\users\\albin\\appdata\\local\\packages\\pythonsoftwarefoundation.python.3.8_qbz5n2kfra8p0\\localcache\\local-packages\\python38\\site-packages (from requests>=2.32.2->datasets) (2.0.12)\n",
      "Requirement already satisfied: idna<4,>=2.5 in c:\\users\\albin\\appdata\\local\\packages\\pythonsoftwarefoundation.python.3.8_qbz5n2kfra8p0\\localcache\\local-packages\\python38\\site-packages (from requests>=2.32.2->datasets) (3.3)\n",
      "Requirement already satisfied: urllib3<3,>=1.21.1 in c:\\users\\albin\\appdata\\local\\packages\\pythonsoftwarefoundation.python.3.8_qbz5n2kfra8p0\\localcache\\local-packages\\python38\\site-packages (from requests>=2.32.2->datasets) (1.26.9)\n",
      "Requirement already satisfied: certifi>=2017.4.17 in c:\\users\\albin\\appdata\\local\\packages\\pythonsoftwarefoundation.python.3.8_qbz5n2kfra8p0\\localcache\\local-packages\\python38\\site-packages (from requests>=2.32.2->datasets) (2021.10.8)\n",
      "Requirement already satisfied: colorama in c:\\users\\albin\\appdata\\local\\packages\\pythonsoftwarefoundation.python.3.8_qbz5n2kfra8p0\\localcache\\local-packages\\python38\\site-packages (from tqdm>=4.66.3->datasets) (0.4.4)\n",
      "Requirement already satisfied: python-dateutil>=2.8.1 in c:\\users\\albin\\appdata\\local\\packages\\pythonsoftwarefoundation.python.3.8_qbz5n2kfra8p0\\localcache\\local-packages\\python38\\site-packages (from pandas->datasets) (2.8.2)\n",
      "Requirement already satisfied: pytz>=2020.1 in c:\\users\\albin\\appdata\\local\\packages\\pythonsoftwarefoundation.python.3.8_qbz5n2kfra8p0\\localcache\\local-packages\\python38\\site-packages (from pandas->datasets) (2021.3)\n",
      "Requirement already satisfied: six>=1.5 in c:\\users\\albin\\appdata\\local\\packages\\pythonsoftwarefoundation.python.3.8_qbz5n2kfra8p0\\localcache\\local-packages\\python38\\site-packages (from python-dateutil>=2.8.1->pandas->datasets) (1.16.0)\n",
      "Requirement already satisfied: propcache>=0.2.0 in c:\\users\\albin\\appdata\\local\\packages\\pythonsoftwarefoundation.python.3.8_qbz5n2kfra8p0\\localcache\\local-packages\\python38\\site-packages (from yarl<2.0,>=1.12.0->aiohttp->datasets) (0.2.0)\n"
     ]
    },
    {
     "name": "stderr",
     "output_type": "stream",
     "text": [
      "WARNING: Ignoring invalid distribution -ip (c:\\users\\albin\\appdata\\local\\packages\\pythonsoftwarefoundation.python.3.8_qbz5n2kfra8p0\\localcache\\local-packages\\python38\\site-packages)\n",
      "WARNING: Ignoring invalid distribution -ip (c:\\users\\albin\\appdata\\local\\packages\\pythonsoftwarefoundation.python.3.8_qbz5n2kfra8p0\\localcache\\local-packages\\python38\\site-packages)\n",
      "\n",
      "[notice] A new release of pip is available: 23.1.2 -> 25.0.1\n",
      "[notice] To update, run: C:\\Users\\albin\\AppData\\Local\\Microsoft\\WindowsApps\\PythonSoftwareFoundation.Python.3.8_qbz5n2kfra8p0\\python.exe -m pip install --upgrade pip\n"
     ]
    },
    {
     "name": "stdout",
     "output_type": "stream",
     "text": [
      "Requirement already satisfied: textblob in c:\\users\\albin\\appdata\\local\\packages\\pythonsoftwarefoundation.python.3.8_qbz5n2kfra8p0\\localcache\\local-packages\\python38\\site-packages (0.18.0.post0)\n",
      "Requirement already satisfied: nltk>=3.8 in c:\\users\\albin\\appdata\\local\\packages\\pythonsoftwarefoundation.python.3.8_qbz5n2kfra8p0\\localcache\\local-packages\\python38\\site-packages (from textblob) (3.9.1)\n",
      "Requirement already satisfied: click in c:\\users\\albin\\appdata\\local\\packages\\pythonsoftwarefoundation.python.3.8_qbz5n2kfra8p0\\localcache\\local-packages\\python38\\site-packages (from nltk>=3.8->textblob) (8.0.3)\n",
      "Requirement already satisfied: joblib in c:\\users\\albin\\appdata\\local\\packages\\pythonsoftwarefoundation.python.3.8_qbz5n2kfra8p0\\localcache\\local-packages\\python38\\site-packages (from nltk>=3.8->textblob) (1.1.0)\n",
      "Requirement already satisfied: regex>=2021.8.3 in c:\\users\\albin\\appdata\\local\\packages\\pythonsoftwarefoundation.python.3.8_qbz5n2kfra8p0\\localcache\\local-packages\\python38\\site-packages (from nltk>=3.8->textblob) (2022.3.15)\n",
      "Requirement already satisfied: tqdm in c:\\users\\albin\\appdata\\local\\packages\\pythonsoftwarefoundation.python.3.8_qbz5n2kfra8p0\\localcache\\local-packages\\python38\\site-packages (from nltk>=3.8->textblob) (4.67.1)\n",
      "Requirement already satisfied: colorama in c:\\users\\albin\\appdata\\local\\packages\\pythonsoftwarefoundation.python.3.8_qbz5n2kfra8p0\\localcache\\local-packages\\python38\\site-packages (from click->nltk>=3.8->textblob) (0.4.4)\n"
     ]
    },
    {
     "name": "stderr",
     "output_type": "stream",
     "text": [
      "WARNING: Ignoring invalid distribution -ip (c:\\users\\albin\\appdata\\local\\packages\\pythonsoftwarefoundation.python.3.8_qbz5n2kfra8p0\\localcache\\local-packages\\python38\\site-packages)\n",
      "WARNING: Ignoring invalid distribution -ip (c:\\users\\albin\\appdata\\local\\packages\\pythonsoftwarefoundation.python.3.8_qbz5n2kfra8p0\\localcache\\local-packages\\python38\\site-packages)\n",
      "\n",
      "[notice] A new release of pip is available: 23.1.2 -> 25.0.1\n",
      "[notice] To update, run: C:\\Users\\albin\\AppData\\Local\\Microsoft\\WindowsApps\\PythonSoftwareFoundation.Python.3.8_qbz5n2kfra8p0\\python.exe -m pip install --upgrade pip\n"
     ]
    }
   ],
   "source": [
    "!pip install datasets\n",
    "!pip install textblob "
   ]
  },
  {
   "cell_type": "markdown",
   "id": "668d0e97",
   "metadata": {},
   "source": [
    "### Libraries"
   ]
  },
  {
   "cell_type": "code",
   "execution_count": 26,
   "id": "fbbaf17b",
   "metadata": {},
   "outputs": [],
   "source": [
    "from datasets import load_dataset\n",
    "from pprint import pprint\n",
    "import pandas as pd\n",
    "import textwrap\n",
    "from textblob import TextBlob\n"
   ]
  },
  {
   "cell_type": "markdown",
   "id": "a494b45b",
   "metadata": {},
   "source": [
    "### Load User Reviews"
   ]
  },
  {
   "cell_type": "code",
   "execution_count": 4,
   "id": "a7d66a75",
   "metadata": {},
   "outputs": [
    {
     "name": "stdout",
     "output_type": "stream",
     "text": [
      "{'rating': 3.0, 'title': 'Smells like gasoline! Going back!', 'text': 'First & most offensive: they reek of gasoline so if you are sensitive/allergic to petroleum products like I am you will want to pass on these.  Second: the phone adapter is useless as-is. Mine was not drilled far enough to be able to tighten it into place for my iPhone 12 max. It just slipped & slid all over. Stupid me putting the adapter together first without picking up the binoculars to smell them bc I wasted 15 minutes trying to figure out how to put the adapter together bc it does not come with instructions!  I had to come back here to the website which was a total pain. Third: the tripod is also useless. I would not trust the iOS to hold my $1600 phone nor even a Mattel Barbie for that matter. It’s just inefficient for the job imo.  Third: in order to try to give an honest review I did don gloves & eyewear to check the binoculars out.  They seemed average except for mine seemed to be missing about 10% of the film costing in the lower edge of one of the lenses which would have ruined every video & photograph unplanned to take so for me these are a very huge hard pass.  I expect the accessories that come with the main product to be as good or better than the product I’m buying. Otherwise I would just buy the product as a stand alone.  Sadly, I found a decent pair of binoculars last year with a much better quality phone adapter & tripod, but they had a defect too.  Guess I’m going to have to pay more.  Ugh.', 'images': [{'attachment_type': 'IMAGE', 'large_image_url': 'https://m.media-amazon.com/images/I/71YN+Qk3kCL._SL1600_.jpg', 'medium_image_url': 'https://m.media-amazon.com/images/I/71YN+Qk3kCL._SL800_.jpg', 'small_image_url': 'https://m.media-amazon.com/images/I/71YN+Qk3kCL._SL256_.jpg'}], 'asin': 'B083NRGZMM', 'parent_asin': 'B083NRGZMM', 'user_id': 'AFKZENTNBQ7A7V7UXW5JJI6UGRYQ', 'timestamp': 1658185117948, 'helpful_vote': 0, 'verified_purchase': True}\n"
     ]
    }
   ],
   "source": [
    "dataset_electronics = load_dataset(\"McAuley-Lab/Amazon-Reviews-2023\", \"raw_review_Electronics\", trust_remote_code=True)\n",
    "print(dataset_electronics[\"full\"][0])"
   ]
  },
  {
   "cell_type": "code",
   "execution_count": 5,
   "id": "dd0c9ee2",
   "metadata": {},
   "outputs": [
    {
     "name": "stdout",
     "output_type": "stream",
     "text": [
      "{'full': Dataset({\n",
      "    features: ['rating', 'title', 'text', 'images', 'asin', 'parent_asin', 'user_id', 'timestamp', 'helpful_vote', 'verified_purchase'],\n",
      "    num_rows: 43886944\n",
      "})}\n"
     ]
    }
   ],
   "source": [
    "pprint(dataset_electronics)"
   ]
  },
  {
   "cell_type": "code",
   "execution_count": 11,
   "id": "0746d245",
   "metadata": {},
   "outputs": [
    {
     "name": "stdout",
     "output_type": "stream",
     "text": [
      "   rating                                        title  \\\n",
      "0     3.0            Smells like gasoline! Going back!   \n",
      "1     1.0      Didn’t work at all lenses loose/broken.   \n",
      "2     5.0                                   Excellent!   \n",
      "3     5.0                       Great laptop backpack!   \n",
      "4     5.0  Best Headphones in the Fifties price range!   \n",
      "\n",
      "                                                text  \\\n",
      "0  First & most offensive: they reek of gasoline ...   \n",
      "1  These didn’t work. Idk if they were damaged in...   \n",
      "2  I love these. They even come with a carry case...   \n",
      "3  I was searching for a sturdy backpack for scho...   \n",
      "4  I've bought these headphones three times becau...   \n",
      "\n",
      "                                              images        asin parent_asin  \\\n",
      "0  [{'attachment_type': 'IMAGE', 'large_image_url...  B083NRGZMM  B083NRGZMM   \n",
      "1                                                 []  B07N69T6TM  B07N69T6TM   \n",
      "2                                                 []  B01G8JO5F2  B01G8JO5F2   \n",
      "3                                                 []  B001OC5JKY  B001OC5JKY   \n",
      "4                                                 []  B013J7WUGC  B07CJYMRWM   \n",
      "\n",
      "                        user_id      timestamp  helpful_vote  \\\n",
      "0  AFKZENTNBQ7A7V7UXW5JJI6UGRYQ  1658185117948             0   \n",
      "1  AFKZENTNBQ7A7V7UXW5JJI6UGRYQ  1592678549731             0   \n",
      "2  AFKZENTNBQ7A7V7UXW5JJI6UGRYQ  1523093017534             0   \n",
      "3  AGGZ357AO26RQZVRLGU4D4N52DZQ  1290278495000            18   \n",
      "4  AG2L7H23R5LLKDKLBEF2Q3L2MVDA  1676601581238             0   \n",
      "\n",
      "   verified_purchase  \n",
      "0               True  \n",
      "1               True  \n",
      "2               True  \n",
      "3               True  \n",
      "4               True  \n"
     ]
    }
   ],
   "source": [
    "print(pd.DataFrame(dataset_electronics[\"full\"][:5]))\n"
   ]
  },
  {
   "cell_type": "markdown",
   "id": "9249f842",
   "metadata": {},
   "source": [
    "### Sample a subset for EDA"
   ]
  },
  {
   "cell_type": "code",
   "execution_count": 33,
   "id": "78328820",
   "metadata": {},
   "outputs": [
    {
     "name": "stdout",
     "output_type": "stream",
     "text": [
      "   rating                                        title  \\\n",
      "0     3.0            Smells like gasoline! Going back!   \n",
      "1     1.0      Didn’t work at all lenses loose/broken.   \n",
      "2     5.0                                   Excellent!   \n",
      "3     5.0                       Great laptop backpack!   \n",
      "4     5.0  Best Headphones in the Fifties price range!   \n",
      "\n",
      "                                                text  \\\n",
      "0  first  most offensive they reek of gasoline so...   \n",
      "1  these didnt work idk if they were damaged in s...   \n",
      "2  i love these they even come with a carry case ...   \n",
      "3  i was searching for a sturdy backpack for scho...   \n",
      "4  ive bought these headphones three times becaus...   \n",
      "\n",
      "                                              images        asin parent_asin  \\\n",
      "0  [{'attachment_type': 'IMAGE', 'large_image_url...  B083NRGZMM  B083NRGZMM   \n",
      "1                                                 []  B07N69T6TM  B07N69T6TM   \n",
      "2                                                 []  B01G8JO5F2  B01G8JO5F2   \n",
      "3                                                 []  B001OC5JKY  B001OC5JKY   \n",
      "4                                                 []  B013J7WUGC  B07CJYMRWM   \n",
      "\n",
      "                        user_id      timestamp  helpful_vote  \\\n",
      "0  AFKZENTNBQ7A7V7UXW5JJI6UGRYQ  1658185117948             0   \n",
      "1  AFKZENTNBQ7A7V7UXW5JJI6UGRYQ  1592678549731             0   \n",
      "2  AFKZENTNBQ7A7V7UXW5JJI6UGRYQ  1523093017534             0   \n",
      "3  AGGZ357AO26RQZVRLGU4D4N52DZQ  1290278495000            18   \n",
      "4  AG2L7H23R5LLKDKLBEF2Q3L2MVDA  1676601581238             0   \n",
      "\n",
      "   verified_purchase  \n",
      "0               True  \n",
      "1               True  \n",
      "2               True  \n",
      "3               True  \n",
      "4               True  \n"
     ]
    }
   ],
   "source": [
    "sample_size = 1000000\n",
    "df = pd.DataFrame(dataset_electronics[\"full\"][:sample_size])\n",
    "df.dropna(inplace=True)  # Remove missing values\n",
    "df[\"text\"] = df[\"text\"].str.lower()  # Convert text to lowercase\n",
    "df[\"text\"] = df[\"text\"].str.replace(r\"[^\\w\\s]\", \"\", regex=True)  # Remove punctuation\n",
    "\n",
    "print(df.head())\n"
   ]
  },
  {
   "cell_type": "code",
   "execution_count": 34,
   "id": "a21eee34",
   "metadata": {},
   "outputs": [
    {
     "name": "stdout",
     "output_type": "stream",
     "text": [
      "DataFrame Info:\n",
      "<class 'pandas.core.frame.DataFrame'>\n",
      "RangeIndex: 1000000 entries, 0 to 999999\n",
      "Data columns (total 10 columns):\n",
      " #   Column             Non-Null Count    Dtype  \n",
      "---  ------             --------------    -----  \n",
      " 0   rating             1000000 non-null  float64\n",
      " 1   title              1000000 non-null  object \n",
      " 2   text               1000000 non-null  object \n",
      " 3   images             1000000 non-null  object \n",
      " 4   asin               1000000 non-null  object \n",
      " 5   parent_asin        1000000 non-null  object \n",
      " 6   user_id            1000000 non-null  object \n",
      " 7   timestamp          1000000 non-null  int64  \n",
      " 8   helpful_vote       1000000 non-null  int64  \n",
      " 9   verified_purchase  1000000 non-null  bool   \n",
      "dtypes: bool(1), float64(1), int64(2), object(6)\n",
      "memory usage: 69.6+ MB\n",
      "None\n",
      "\n",
      "Summary Statistics:\n",
      "               rating     timestamp    helpful_vote\n",
      "count  1000000.000000  1.000000e+06  1000000.000000\n",
      "mean         4.215798  1.521702e+12        1.418708\n",
      "std          1.291146  9.980076e+10       25.691746\n",
      "min          1.000000  8.889274e+11        0.000000\n",
      "25%          4.000000  1.451966e+12        0.000000\n",
      "50%          5.000000  1.530648e+12        0.000000\n",
      "75%          5.000000  1.602891e+12        0.000000\n",
      "max          5.000000  1.679345e+12     8722.000000\n",
      "\n",
      "First 5 Reviews:\n",
      "Review 1:\n",
      "Text: first  most offensive they reek of gasoline so if you are sensitiveallergic to\n",
      "petroleum products like i am you will want to pass on these  second the phone\n",
      "adapter is useless asis mine was not drilled far enough to be able to tighten it\n",
      "into place for my iphone 12 max it just slipped  slid all over stupid me putting\n",
      "the adapter together first without picking up the binoculars to smell them bc i\n",
      "wasted 15 minutes trying to figure out how to put the adapter together bc it\n",
      "does not come with instructions  i had to come back here to the website which\n",
      "was a total pain third the tripod is also useless i would not trust the ios to\n",
      "hold my 1600 phone nor even a mattel barbie for that matter its just inefficient\n",
      "for the job imo  third in order to try to give an honest review i did don gloves\n",
      "eyewear to check the binoculars out  they seemed average except for mine seemed\n",
      "to be missing about 10 of the film costing in the lower edge of one of the\n",
      "lenses which would have ruined every video  photograph unplanned to take so for\n",
      "me these are a very huge hard pass  i expect the accessories that come with the\n",
      "main product to be as good or better than the product im buying otherwise i\n",
      "would just buy the product as a stand alone  sadly i found a decent pair of\n",
      "binoculars last year with a much better quality phone adapter  tripod but they\n",
      "had a defect too  guess im going to have to pay more  ugh\n",
      "Rating: \n",
      "----------------------------------------\n",
      "Review 2:\n",
      "Text: these didnt work idk if they were damaged in shipping or what but the lenses\n",
      "were loose or something i could see half a lens with its edge in the frame and\n",
      "the rest was missing it looked like it came loose or was broken\n",
      "Rating: \n",
      "----------------------------------------\n",
      "Review 3:\n",
      "Text: i love these they even come with a carry case and several sizes of ear bud\n",
      "inserts thank heaven  i get ear pain from most but the smallest buds fit great\n",
      "they also have a charger and all of it fits in the carry case i just wish they\n",
      "came in more colors preferably something bright  when i leave them on my\n",
      "nightstand it takes a while to figure out which of half a dozen black cables are\n",
      "the right ones even white would be ok as only my iphone has a white cord\n",
      "Rating: \n",
      "----------------------------------------\n",
      "Review 4:\n",
      "Text: i was searching for a sturdy backpack for school that would allow me to carry my\n",
      "laptop as well as schoolbooks after reading many of the reviews of this bag i\n",
      "placed my order and crossed my fingers i shouldnt have worried its a great bag\n",
      "solidly built and travelerfriendly with a ton of compartments for every little\n",
      "thing one might need to stow away while this backpack is slightly larger than\n",
      "your average backpack it is comfortable to wear trekking cross campus also\n",
      "another aspect of this bag that i love is that it stands upright i know that\n",
      "sounds kinda crazy but i find it annoying when your backpack flops over next to\n",
      "your desk and stuff kind of just falls out or if you need to grab something\n",
      "quickly out of the bag you have to awkwardly curl your body around the side of\n",
      "your chair and then on the way up smash your head against the desk so yeah lazy\n",
      "girl points to self loves the convenience of a bag that stands upright for easy\n",
      "grabbage i plan to travel with this backpack when i fly home this christmas\n",
      "instead of bringing a bulky tote bag on the plane\n",
      "Rating: \n",
      "----------------------------------------\n",
      "Review 5:\n",
      "Text: ive bought these headphones three times because i love them so much and overuse\n",
      "them and find ways to break the plug to where i cant use my warranty the sound\n",
      "and bass are awesome hands down my favorite headphones in this price bracket\n",
      "Rating: \n",
      "----------------------------------------\n",
      "\n",
      "Missing Values Per Column:\n",
      "rating               0\n",
      "title                0\n",
      "text                 0\n",
      "images               0\n",
      "asin                 0\n",
      "parent_asin          0\n",
      "user_id              0\n",
      "timestamp            0\n",
      "helpful_vote         0\n",
      "verified_purchase    0\n",
      "dtype: int64\n"
     ]
    }
   ],
   "source": [
    "# Show basic info about the DataFrame\n",
    "print(\"DataFrame Info:\")\n",
    "print(df.info())\n",
    "\n",
    "# Show summary statistics for numeric columns\n",
    "print(\"\\nSummary Statistics:\")\n",
    "print(df.describe())\n",
    "\n",
    "# Show the first 5 reviews (multi-line, pretty format)\n",
    "print(\"\\nFirst 5 Reviews:\")\n",
    "for idx, row in df.head(5).iterrows():\n",
    "    print(f\"Review {idx+1}:\")\n",
    "    wrapped_text = textwrap.fill(str(row.get(\"text\", \"\")), width=80)\n",
    "    print(\"Text:\", wrapped_text)\n",
    "    print(\"Rating:\", row.get(\"star_rating\", \"\"))\n",
    "    print(\"-\" * 40)\n",
    "\n",
    "# Check for missing values in each column\n",
    "print(\"\\nMissing Values Per Column:\")\n",
    "print(df.isnull().sum())\n",
    "\n",
    "# Show distribution of ratings (if available)\n",
    "if \"star_rating\" in df.columns:\n",
    "    print(\"\\nRating Distribution:\")\n",
    "    print(df[\"star_rating\"].value_counts())\n"
   ]
  },
  {
   "cell_type": "code",
   "execution_count": 35,
   "id": "fcbbc297",
   "metadata": {},
   "outputs": [
    {
     "name": "stdout",
     "output_type": "stream",
     "text": [
      "                                                text  sentiment_polarity  \\\n",
      "0  first  most offensive they reek of gasoline so...            0.075417   \n",
      "1  these didnt work idk if they were damaged in s...           -0.184103   \n",
      "2  i love these they even come with a carry case ...            0.275170   \n",
      "3  i was searching for a sturdy backpack for scho...            0.098843   \n",
      "4  ive bought these headphones three times becaus...            0.327778   \n",
      "\n",
      "  sentiment_category  \n",
      "0           Positive  \n",
      "1           Negative  \n",
      "2           Positive  \n",
      "3           Positive  \n",
      "4           Positive  \n"
     ]
    }
   ],
   "source": [
    "df[\"sentiment_polarity\"] = df[\"text\"].apply(lambda x: TextBlob(x).sentiment.polarity)\n",
    "df[\"sentiment_category\"] = df[\"sentiment_polarity\"].apply(lambda x: \"Positive\" if x > 0 else \"Negative\" if x < 0 else \"Neutral\")\n",
    "\n",
    "print(df[[\"text\", \"sentiment_polarity\", \"sentiment_category\"]].head())\n"
   ]
  },
  {
   "cell_type": "code",
   "execution_count": 36,
   "id": "9dffba98",
   "metadata": {},
   "outputs": [
    {
     "data": {
      "image/png": "[encoded data removed]",
      "text/plain": [
       "<Figure size 432x288 with 1 Axes>"
      ]
     },
     "metadata": {
      "needs_background": "light"
     },
     "output_type": "display_data"
    }
   ],
   "source": [
    "from collections import Counter\n",
    "import matplotlib.pyplot as plt\n",
    "\n",
    "# Tokenize words\n",
    "words = \" \".join(df[\"text\"]).split()\n",
    "word_freq = Counter(words)\n",
    "\n",
    "# Top 20 words visualization\n",
    "common_words = word_freq.most_common(20)\n",
    "plt.bar(*zip(*common_words))\n",
    "plt.xticks(rotation=45)\n",
    "plt.title(\"Top 20 Most Frequent Words in Reviews\")\n",
    "plt.show()\n"
   ]
  },
  {
   "cell_type": "code",
   "execution_count": 37,
   "id": "854e8bcd",
   "metadata": {},
   "outputs": [
    {
     "data": {
      "image/png": "[encoded data removed]",
      "text/plain": [
       "<Figure size 432x288 with 1 Axes>"
      ]
     },
     "metadata": {
      "needs_background": "light"
     },
     "output_type": "display_data"
    }
   ],
   "source": [
    "from collections import Counter\n",
    "import matplotlib.pyplot as plt\n",
    "\n",
    "# Define a simple list of common English pronouns and prepositions\n",
    "stopwords = set([\n",
    "    \"i\", \"me\", \"my\", \"myself\", \"we\", \"our\", \"ours\", \"ourselves\", \"you\", \"your\", \"yours\", \"yourself\", \"yourselves\",\n",
    "    \"he\", \"him\", \"his\", \"himself\", \"she\", \"her\", \"hers\", \"herself\", \"it\", \"its\", \"itself\", \"they\", \"them\", \"their\",\n",
    "    \"theirs\", \"themselves\", \"what\", \"which\", \"who\", \"whom\", \"this\", \"that\", \"these\", \"those\", \"am\", \"is\", \"are\", \"was\",\n",
    "    \"were\", \"be\", \"been\", \"being\", \"have\", \"has\", \"had\", \"having\", \"do\", \"does\", \"did\", \"doing\", \"a\", \"an\", \"the\", \"and\",\n",
    "    \"but\", \"if\", \"or\", \"because\", \"as\", \"until\", \"while\", \"of\", \"at\", \"by\", \"for\", \"with\", \"about\", \"against\", \"between\",\n",
    "    \"into\", \"through\", \"during\", \"before\", \"after\", \"above\", \"below\", \"to\", \"from\", \"up\", \"down\", \"in\", \"out\", \"on\", \"off\",\n",
    "    \"over\", \"under\", \"again\", \"further\", \"then\", \"once\", \"here\", \"there\", \"when\", \"where\", \"why\", \"how\", \"all\", \"any\",\n",
    "    \"both\", \"each\", \"few\", \"more\", \"most\", \"other\", \"some\", \"such\", \"no\", \"nor\", \"not\", \"only\", \"own\", \"same\", \"so\",\n",
    "    \"than\", \"too\", \"very\", \"can\", \"will\", \"just\", \"don\", \"should\", \"now\"\n",
    "])\n",
    "\n",
    "# Tokenize words and remove stopwords (pronouns and prepositions)\n",
    "words = \" \".join(df[\"text\"]).split()\n",
    "filtered_words = [word for word in words if word not in stopwords]\n",
    "word_freq = Counter(filtered_words)\n",
    "\n",
    "# Top 20 words visualization\n",
    "common_words = word_freq.most_common(20)\n",
    "plt.bar(*zip(*common_words))\n",
    "plt.xticks(rotation=45)\n",
    "plt.title(\"Top 20 Most Frequent Words in Reviews (No Pronouns/Prepositions)\")\n",
    "plt.show()"
   ]
  },
  {
   "cell_type": "code",
   "execution_count": 38,
   "id": "31728e54",
   "metadata": {},
   "outputs": [
    {
     "name": "stdout",
     "output_type": "stream",
     "text": [
      "        rating         title                text images        asin  \\\n",
      "249        5.0    Five Stars             love it     []  B01D2WRSF2   \n",
      "707        5.0          Band         works great     []  B072FS9VVZ   \n",
      "737        5.0      ECHO Dot             love it     []  B01DFKC2SO   \n",
      "746        5.0   As Expected         as expected     []  B00009OY9U   \n",
      "797        5.0    Five Stars             love it     []  B01ACEKAJY   \n",
      "...        ...           ...                 ...    ...         ...   \n",
      "999944     5.0  Great Value!          good value     []  B08C2G1J9M   \n",
      "999959     5.0   Perfect thx  just what i needed     []  B07KQPHVCJ   \n",
      "999960     5.0   Great value         great value     []  B07DCGFWNQ   \n",
      "999962     5.0    Five Stars           beautiful     []  B0091L9RBC   \n",
      "999994     5.0    Five Stars         outstanding     []  B008I63BN6   \n",
      "\n",
      "       parent_asin                       user_id      timestamp  helpful_vote  \\\n",
      "249     B01D2WRSF2  AEJDETWITK2KGACH7FUBMY33PPSQ  1501864667611             0   \n",
      "707     B072FS9VVZ  AHFURURV4H35BXUUTXYMJYA36CTQ  1580948455388             0   \n",
      "737     B01K8B8YA8  AEF3JXPYJL5ILD6M2QONVD7FBTKA  1500757432325             0   \n",
      "746     B00009OY9U  AGF42GID7QWDCNFTJRCTMKAITJJA  1641661728786             0   \n",
      "797     B01BRWH8G8  AECABX3OO3GK7FCPZLFM3LT2E6UA  1488849734000             0   \n",
      "...            ...                           ...            ...           ...   \n",
      "999944  B09CGXP9RS  AFQQ4PR53CAD7D2BUM6OSDV5HAMQ  1607122824325             0   \n",
      "999959  B098W99QP3  AE64FOSXHLFXEDOBBWVRPJ6RRAPA  1559337952501             0   \n",
      "999960  B07DCGFWNQ  AE64FOSXHLFXEDOBBWVRPJ6RRAPA  1559337607329             0   \n",
      "999962  B06Y6HCCJW  AE64FOSXHLFXEDOBBWVRPJ6RRAPA  1502146214386             0   \n",
      "999994  B008I63BN6  AEION6O74XUYHCP4VQCACGEQI3DA  1426457894000             0   \n",
      "\n",
      "        verified_purchase  sentiment_polarity sentiment_category  \\\n",
      "249                  True                0.50           Positive   \n",
      "707                  True                0.80           Positive   \n",
      "737                  True                0.50           Positive   \n",
      "746                 False               -0.10           Negative   \n",
      "797                  True                0.50           Positive   \n",
      "...                   ...                 ...                ...   \n",
      "999944               True                0.70           Positive   \n",
      "999959               True                0.00            Neutral   \n",
      "999960               True                0.80           Positive   \n",
      "999962               True                0.85           Positive   \n",
      "999994               True                0.50           Positive   \n",
      "\n",
      "        duplicated_review  \n",
      "249                  True  \n",
      "707                  True  \n",
      "737                  True  \n",
      "746                  True  \n",
      "797                  True  \n",
      "...                   ...  \n",
      "999944               True  \n",
      "999959               True  \n",
      "999960               True  \n",
      "999962               True  \n",
      "999994               True  \n",
      "\n",
      "[103588 rows x 13 columns]\n"
     ]
    }
   ],
   "source": [
    "df[\"duplicated_review\"] = df[\"text\"].duplicated()\n",
    "print(df[df[\"duplicated_review\"] == True])\n"
   ]
  },
  {
   "cell_type": "code",
   "execution_count": null,
   "id": "9a9aeed8",
   "metadata": {},
   "outputs": [],
   "source": []
  }
 ],
 "metadata": {
  "kernelspec": {
   "display_name": "Python 3",
   "language": "python",
   "name": "python3"
  },
  "language_info": {
   "codemirror_mode": {
    "name": "ipython",
    "version": 3
   },
   "file_extension": ".py",
   "mimetype": "text/x-python",
   "name": "python",
   "nbconvert_exporter": "python",
   "pygments_lexer": "ipython3",
   "version": "3.8.10"
  }
 },
 "nbformat": 4,
 "nbformat_minor": 5
}
